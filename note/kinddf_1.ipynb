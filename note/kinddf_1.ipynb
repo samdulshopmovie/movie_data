{
 "cells": [
  {
   "cell_type": "code",
   "execution_count": 1,
   "id": "e43e320a-bc89-4341-87f0-cd71ec67ea00",
   "metadata": {},
   "outputs": [],
   "source": [
    "import pandas as pd\n",
    "import numpy as np\n",
    "import matplotlib.pyplot as plt"
   ]
  },
  {
   "cell_type": "code",
   "execution_count": 3,
   "id": "103c20ad-8d79-4290-9749-9f6dd0fe29a6",
   "metadata": {},
   "outputs": [
    {
     "data": {
      "text/html": [
       "<div>\n",
       "<style scoped>\n",
       "    .dataframe tbody tr th:only-of-type {\n",
       "        vertical-align: middle;\n",
       "    }\n",
       "\n",
       "    .dataframe tbody tr th {\n",
       "        vertical-align: top;\n",
       "    }\n",
       "\n",
       "    .dataframe thead th {\n",
       "        text-align: right;\n",
       "    }\n",
       "</style>\n",
       "<table border=\"1\" class=\"dataframe\">\n",
       "  <thead>\n",
       "    <tr style=\"text-align: right;\">\n",
       "      <th></th>\n",
       "      <th>rnum</th>\n",
       "      <th>rank</th>\n",
       "      <th>rankInten</th>\n",
       "      <th>rankOldAndNew</th>\n",
       "      <th>movieCd</th>\n",
       "      <th>movieNm</th>\n",
       "      <th>openDt</th>\n",
       "      <th>salesAmt</th>\n",
       "      <th>salesShare</th>\n",
       "      <th>salesInten</th>\n",
       "      <th>...</th>\n",
       "      <th>salesAcc</th>\n",
       "      <th>audiCnt</th>\n",
       "      <th>audiInten</th>\n",
       "      <th>audiChange</th>\n",
       "      <th>audiAcc</th>\n",
       "      <th>scrnCnt</th>\n",
       "      <th>showCnt</th>\n",
       "      <th>load_dt</th>\n",
       "      <th>multiMovieYn</th>\n",
       "      <th>repNationCd</th>\n",
       "    </tr>\n",
       "  </thead>\n",
       "  <tbody>\n",
       "    <tr>\n",
       "      <th>0</th>\n",
       "      <td>1</td>\n",
       "      <td>1</td>\n",
       "      <td>0</td>\n",
       "      <td>OLD</td>\n",
       "      <td>20137048</td>\n",
       "      <td>국제시장</td>\n",
       "      <td>2014-12-17</td>\n",
       "      <td>6129982500</td>\n",
       "      <td>47.3</td>\n",
       "      <td>2797599300</td>\n",
       "      <td>...</td>\n",
       "      <td>47219550096</td>\n",
       "      <td>751754</td>\n",
       "      <td>275212</td>\n",
       "      <td>57.8</td>\n",
       "      <td>6097431</td>\n",
       "      <td>941</td>\n",
       "      <td>4650</td>\n",
       "      <td>20150101</td>\n",
       "      <td>N</td>\n",
       "      <td>NaN</td>\n",
       "    </tr>\n",
       "    <tr>\n",
       "      <th>1</th>\n",
       "      <td>2</td>\n",
       "      <td>2</td>\n",
       "      <td>1</td>\n",
       "      <td>OLD</td>\n",
       "      <td>20143642</td>\n",
       "      <td>테이큰 3</td>\n",
       "      <td>2015-01-01</td>\n",
       "      <td>2644551100</td>\n",
       "      <td>20.4</td>\n",
       "      <td>1640018100</td>\n",
       "      <td>...</td>\n",
       "      <td>3658460100</td>\n",
       "      <td>321653</td>\n",
       "      <td>177118</td>\n",
       "      <td>122.5</td>\n",
       "      <td>467280</td>\n",
       "      <td>614</td>\n",
       "      <td>2947</td>\n",
       "      <td>20150101</td>\n",
       "      <td>N</td>\n",
       "      <td>NaN</td>\n",
       "    </tr>\n",
       "    <tr>\n",
       "      <th>2</th>\n",
       "      <td>3</td>\n",
       "      <td>3</td>\n",
       "      <td>-1</td>\n",
       "      <td>OLD</td>\n",
       "      <td>20149859</td>\n",
       "      <td>마다가스카의 펭귄</td>\n",
       "      <td>2014-12-31</td>\n",
       "      <td>1687516200</td>\n",
       "      <td>13.0</td>\n",
       "      <td>672528400</td>\n",
       "      <td>...</td>\n",
       "      <td>2736013000</td>\n",
       "      <td>212779</td>\n",
       "      <td>67641</td>\n",
       "      <td>46.6</td>\n",
       "      <td>361669</td>\n",
       "      <td>594</td>\n",
       "      <td>1846</td>\n",
       "      <td>20150101</td>\n",
       "      <td>N</td>\n",
       "      <td>NaN</td>\n",
       "    </tr>\n",
       "  </tbody>\n",
       "</table>\n",
       "<p>3 rows × 21 columns</p>\n",
       "</div>"
      ],
      "text/plain": [
       "  rnum rank rankInten rankOldAndNew   movieCd    movieNm      openDt  \\\n",
       "0    1    1         0           OLD  20137048       국제시장  2014-12-17   \n",
       "1    2    2         1           OLD  20143642      테이큰 3  2015-01-01   \n",
       "2    3    3        -1           OLD  20149859  마다가스카의 펭귄  2014-12-31   \n",
       "\n",
       "     salesAmt salesShare  salesInten  ...     salesAcc audiCnt audiInten  \\\n",
       "0  6129982500       47.3  2797599300  ...  47219550096  751754    275212   \n",
       "1  2644551100       20.4  1640018100  ...   3658460100  321653    177118   \n",
       "2  1687516200       13.0   672528400  ...   2736013000  212779     67641   \n",
       "\n",
       "  audiChange  audiAcc scrnCnt showCnt   load_dt multiMovieYn repNationCd  \n",
       "0       57.8  6097431     941    4650  20150101            N         NaN  \n",
       "1      122.5   467280     614    2947  20150101            N         NaN  \n",
       "2       46.6   361669     594    1846  20150101            N         NaN  \n",
       "\n",
       "[3 rows x 21 columns]"
      ]
     },
     "execution_count": 3,
     "metadata": {},
     "output_type": "execute_result"
    }
   ],
   "source": [
    "edf = pd.read_parquet('../data/extract/')\n",
    "edf.head(3)"
   ]
  },
  {
   "cell_type": "code",
   "execution_count": 11,
   "id": "1d336f45-3d8f-489c-8857-3dee810e8c59",
   "metadata": {},
   "outputs": [
    {
     "data": {
      "text/html": [
       "<div>\n",
       "<style scoped>\n",
       "    .dataframe tbody tr th:only-of-type {\n",
       "        vertical-align: middle;\n",
       "    }\n",
       "\n",
       "    .dataframe tbody tr th {\n",
       "        vertical-align: top;\n",
       "    }\n",
       "\n",
       "    .dataframe thead th {\n",
       "        text-align: right;\n",
       "    }\n",
       "</style>\n",
       "<table border=\"1\" class=\"dataframe\">\n",
       "  <thead>\n",
       "    <tr style=\"text-align: right;\">\n",
       "      <th></th>\n",
       "      <th>movieCd</th>\n",
       "      <th>multiMovieYn</th>\n",
       "      <th>repNationCd</th>\n",
       "    </tr>\n",
       "  </thead>\n",
       "  <tbody>\n",
       "    <tr>\n",
       "      <th>0</th>\n",
       "      <td>20137048</td>\n",
       "      <td>N</td>\n",
       "      <td>NaN</td>\n",
       "    </tr>\n",
       "    <tr>\n",
       "      <th>1</th>\n",
       "      <td>20143642</td>\n",
       "      <td>N</td>\n",
       "      <td>NaN</td>\n",
       "    </tr>\n",
       "    <tr>\n",
       "      <th>2</th>\n",
       "      <td>20149859</td>\n",
       "      <td>N</td>\n",
       "      <td>NaN</td>\n",
       "    </tr>\n",
       "  </tbody>\n",
       "</table>\n",
       "</div>"
      ],
      "text/plain": [
       "    movieCd multiMovieYn repNationCd\n",
       "0  20137048            N         NaN\n",
       "1  20143642            N         NaN\n",
       "2  20149859            N         NaN"
      ]
     },
     "execution_count": 11,
     "metadata": {},
     "output_type": "execute_result"
    }
   ],
   "source": [
    "kinddf = edf[['movieCd', 'multiMovieYn', 'repNationCd']].drop_duplicates()\n",
    "kinddf.head(3)\n"
   ]
  },
  {
   "cell_type": "code",
   "execution_count": 12,
   "id": "267ca31b-5372-4805-8f57-7bf1790a0b13",
   "metadata": {},
   "outputs": [
    {
     "data": {
      "text/plain": [
       "1257"
      ]
     },
     "execution_count": 12,
     "metadata": {},
     "output_type": "execute_result"
    }
   ],
   "source": [
    "len(kinddf)"
   ]
  },
  {
   "cell_type": "code",
   "execution_count": 13,
   "id": "a6819d76-29a0-42bb-b03c-2a7f416c0494",
   "metadata": {},
   "outputs": [
    {
     "data": {
      "text/plain": [
       "798"
      ]
     },
     "execution_count": 13,
     "metadata": {},
     "output_type": "execute_result"
    }
   ],
   "source": [
    "len(kinddf['movieCd'].drop_duplicates())"
   ]
  },
  {
   "cell_type": "code",
   "execution_count": 18,
   "id": "6d8603ca-3452-4e05-909e-24276d81eb23",
   "metadata": {},
   "outputs": [
    {
     "data": {
      "text/html": [
       "<div>\n",
       "<style scoped>\n",
       "    .dataframe tbody tr th:only-of-type {\n",
       "        vertical-align: middle;\n",
       "    }\n",
       "\n",
       "    .dataframe tbody tr th {\n",
       "        vertical-align: top;\n",
       "    }\n",
       "\n",
       "    .dataframe thead th {\n",
       "        text-align: right;\n",
       "    }\n",
       "</style>\n",
       "<table border=\"1\" class=\"dataframe\">\n",
       "  <thead>\n",
       "    <tr style=\"text-align: right;\">\n",
       "      <th></th>\n",
       "      <th>movieCd</th>\n",
       "      <th>multiMovieYn</th>\n",
       "      <th>repNationCd</th>\n",
       "    </tr>\n",
       "  </thead>\n",
       "  <tbody>\n",
       "    <tr>\n",
       "      <th>20</th>\n",
       "      <td>20143642</td>\n",
       "      <td>NaN</td>\n",
       "      <td>F</td>\n",
       "    </tr>\n",
       "    <tr>\n",
       "      <th>21</th>\n",
       "      <td>20149859</td>\n",
       "      <td>NaN</td>\n",
       "      <td>F</td>\n",
       "    </tr>\n",
       "    <tr>\n",
       "      <th>22</th>\n",
       "      <td>20140226</td>\n",
       "      <td>NaN</td>\n",
       "      <td>F</td>\n",
       "    </tr>\n",
       "  </tbody>\n",
       "</table>\n",
       "</div>"
      ],
      "text/plain": [
       "     movieCd multiMovieYn repNationCd\n",
       "20  20143642          NaN           F\n",
       "21  20149859          NaN           F\n",
       "22  20140226          NaN           F"
      ]
     },
     "execution_count": 18,
     "metadata": {},
     "output_type": "execute_result"
    }
   ],
   "source": [
    "multi_nan = kinddf[kinddf.multiMovieYn.isna()]\n",
    "multi_nan.head(3)"
   ]
  },
  {
   "cell_type": "code",
   "execution_count": 23,
   "id": "841db7be-f681-4db2-8c30-7ebacc056f91",
   "metadata": {},
   "outputs": [
    {
     "data": {
      "text/plain": [
       "0"
      ]
     },
     "execution_count": 23,
     "metadata": {},
     "output_type": "execute_result"
    }
   ],
   "source": [
    "multi_nan[multi_nan.repNationCd.isna()].size"
   ]
  },
  {
   "cell_type": "code",
   "execution_count": 19,
   "id": "9622d7b6-89d7-40fb-8bb9-7dde27b7023c",
   "metadata": {},
   "outputs": [
    {
     "data": {
      "text/html": [
       "<div>\n",
       "<style scoped>\n",
       "    .dataframe tbody tr th:only-of-type {\n",
       "        vertical-align: middle;\n",
       "    }\n",
       "\n",
       "    .dataframe tbody tr th {\n",
       "        vertical-align: top;\n",
       "    }\n",
       "\n",
       "    .dataframe thead th {\n",
       "        text-align: right;\n",
       "    }\n",
       "</style>\n",
       "<table border=\"1\" class=\"dataframe\">\n",
       "  <thead>\n",
       "    <tr style=\"text-align: right;\">\n",
       "      <th></th>\n",
       "      <th>movieCd</th>\n",
       "      <th>multiMovieYn</th>\n",
       "      <th>repNationCd</th>\n",
       "    </tr>\n",
       "  </thead>\n",
       "  <tbody>\n",
       "    <tr>\n",
       "      <th>0</th>\n",
       "      <td>20137048</td>\n",
       "      <td>N</td>\n",
       "      <td>NaN</td>\n",
       "    </tr>\n",
       "    <tr>\n",
       "      <th>1</th>\n",
       "      <td>20143642</td>\n",
       "      <td>N</td>\n",
       "      <td>NaN</td>\n",
       "    </tr>\n",
       "    <tr>\n",
       "      <th>2</th>\n",
       "      <td>20149859</td>\n",
       "      <td>N</td>\n",
       "      <td>NaN</td>\n",
       "    </tr>\n",
       "  </tbody>\n",
       "</table>\n",
       "</div>"
      ],
      "text/plain": [
       "    movieCd multiMovieYn repNationCd\n",
       "0  20137048            N         NaN\n",
       "1  20143642            N         NaN\n",
       "2  20149859            N         NaN"
      ]
     },
     "execution_count": 19,
     "metadata": {},
     "output_type": "execute_result"
    }
   ],
   "source": [
    "nation_nan = kinddf[kinddf.repNationCd.isna()]\n",
    "nation_nan.head(3)"
   ]
  },
  {
   "cell_type": "code",
   "execution_count": 25,
   "id": "6db3052d-b328-4baa-b963-bd077db95ed8",
   "metadata": {},
   "outputs": [
    {
     "data": {
      "text/plain": [
       "0"
      ]
     },
     "execution_count": 25,
     "metadata": {},
     "output_type": "execute_result"
    }
   ],
   "source": [
    "nation_nan[nation_nan.multiMovieYn.isna()].size"
   ]
  },
  {
   "cell_type": "code",
   "execution_count": 26,
   "id": "ceef31ba-2568-4342-b29d-38ea9c49a78d",
   "metadata": {},
   "outputs": [
    {
     "data": {
      "text/html": [
       "<div>\n",
       "<style scoped>\n",
       "    .dataframe tbody tr th:only-of-type {\n",
       "        vertical-align: middle;\n",
       "    }\n",
       "\n",
       "    .dataframe tbody tr th {\n",
       "        vertical-align: top;\n",
       "    }\n",
       "\n",
       "    .dataframe thead th {\n",
       "        text-align: right;\n",
       "    }\n",
       "</style>\n",
       "<table border=\"1\" class=\"dataframe\">\n",
       "  <thead>\n",
       "    <tr style=\"text-align: right;\">\n",
       "      <th></th>\n",
       "      <th>movieCd</th>\n",
       "      <th>multiMovieYn_m</th>\n",
       "      <th>repNationCd_m</th>\n",
       "      <th>multiMovieYn_n</th>\n",
       "      <th>repNationCd_n</th>\n",
       "    </tr>\n",
       "  </thead>\n",
       "  <tbody>\n",
       "    <tr>\n",
       "      <th>0</th>\n",
       "      <td>20143642</td>\n",
       "      <td>NaN</td>\n",
       "      <td>F</td>\n",
       "      <td>N</td>\n",
       "      <td>NaN</td>\n",
       "    </tr>\n",
       "    <tr>\n",
       "      <th>1</th>\n",
       "      <td>20149859</td>\n",
       "      <td>NaN</td>\n",
       "      <td>F</td>\n",
       "      <td>N</td>\n",
       "      <td>NaN</td>\n",
       "    </tr>\n",
       "    <tr>\n",
       "      <th>2</th>\n",
       "      <td>20140226</td>\n",
       "      <td>NaN</td>\n",
       "      <td>F</td>\n",
       "      <td>N</td>\n",
       "      <td>NaN</td>\n",
       "    </tr>\n",
       "  </tbody>\n",
       "</table>\n",
       "</div>"
      ],
      "text/plain": [
       "    movieCd multiMovieYn_m repNationCd_m multiMovieYn_n repNationCd_n\n",
       "0  20143642            NaN             F              N           NaN\n",
       "1  20149859            NaN             F              N           NaN\n",
       "2  20140226            NaN             F              N           NaN"
      ]
     },
     "execution_count": 26,
     "metadata": {},
     "output_type": "execute_result"
    }
   ],
   "source": [
    "m_df = pd.merge(multi_nan, nation_nan, on=['movieCd'], suffixes=('_m', '_n'))\n",
    "m_df.head(3)"
   ]
  },
  {
   "cell_type": "code",
   "execution_count": 27,
   "id": "138471c6-4c3c-4c89-abaa-440fc82802dc",
   "metadata": {},
   "outputs": [
    {
     "data": {
      "text/plain": [
       "2295"
      ]
     },
     "execution_count": 27,
     "metadata": {},
     "output_type": "execute_result"
    }
   ],
   "source": [
    "m_df.size"
   ]
  },
  {
   "cell_type": "code",
   "execution_count": 28,
   "id": "cace307f-7538-430f-b78d-6a0062fce035",
   "metadata": {},
   "outputs": [
    {
     "data": {
      "text/plain": [
       "2295"
      ]
     },
     "execution_count": 28,
     "metadata": {},
     "output_type": "execute_result"
    }
   ],
   "source": [
    "m_df.drop_duplicates().size"
   ]
  },
  {
   "cell_type": "markdown",
   "id": "4b572479-0851-4101-bac9-a5bae1449707",
   "metadata": {},
   "source": [
    "### 검증"
   ]
  },
  {
   "cell_type": "code",
   "execution_count": 30,
   "id": "717a35c4-42b7-4ec0-91d0-084b2e1ef055",
   "metadata": {},
   "outputs": [
    {
     "data": {
      "text/html": [
       "<div>\n",
       "<style scoped>\n",
       "    .dataframe tbody tr th:only-of-type {\n",
       "        vertical-align: middle;\n",
       "    }\n",
       "\n",
       "    .dataframe tbody tr th {\n",
       "        vertical-align: top;\n",
       "    }\n",
       "\n",
       "    .dataframe thead th {\n",
       "        text-align: right;\n",
       "    }\n",
       "</style>\n",
       "<table border=\"1\" class=\"dataframe\">\n",
       "  <thead>\n",
       "    <tr style=\"text-align: right;\">\n",
       "      <th></th>\n",
       "      <th>movieCd</th>\n",
       "      <th>multiMovieYn_m</th>\n",
       "      <th>repNationCd_m</th>\n",
       "      <th>multiMovieYn_n</th>\n",
       "      <th>repNationCd_n</th>\n",
       "    </tr>\n",
       "  </thead>\n",
       "  <tbody>\n",
       "  </tbody>\n",
       "</table>\n",
       "</div>"
      ],
      "text/plain": [
       "Empty DataFrame\n",
       "Columns: [movieCd, multiMovieYn_m, repNationCd_m, multiMovieYn_n, repNationCd_n]\n",
       "Index: []"
      ]
     },
     "execution_count": 30,
     "metadata": {},
     "output_type": "execute_result"
    }
   ],
   "source": [
    "m_df[m_df['multiMovieYn_m'].notna()]"
   ]
  },
  {
   "cell_type": "code",
   "execution_count": 32,
   "id": "9e50c94a-4d10-4a4e-8bd3-d028b3213a7f",
   "metadata": {},
   "outputs": [
    {
     "data": {
      "text/html": [
       "<div>\n",
       "<style scoped>\n",
       "    .dataframe tbody tr th:only-of-type {\n",
       "        vertical-align: middle;\n",
       "    }\n",
       "\n",
       "    .dataframe tbody tr th {\n",
       "        vertical-align: top;\n",
       "    }\n",
       "\n",
       "    .dataframe thead th {\n",
       "        text-align: right;\n",
       "    }\n",
       "</style>\n",
       "<table border=\"1\" class=\"dataframe\">\n",
       "  <thead>\n",
       "    <tr style=\"text-align: right;\">\n",
       "      <th></th>\n",
       "      <th>movieCd</th>\n",
       "      <th>multiMovieYn_m</th>\n",
       "      <th>repNationCd_m</th>\n",
       "      <th>multiMovieYn_n</th>\n",
       "      <th>repNationCd_n</th>\n",
       "    </tr>\n",
       "  </thead>\n",
       "  <tbody>\n",
       "  </tbody>\n",
       "</table>\n",
       "</div>"
      ],
      "text/plain": [
       "Empty DataFrame\n",
       "Columns: [movieCd, multiMovieYn_m, repNationCd_m, multiMovieYn_n, repNationCd_n]\n",
       "Index: []"
      ]
     },
     "execution_count": 32,
     "metadata": {},
     "output_type": "execute_result"
    }
   ],
   "source": [
    "m_df[m_df['repNationCd_m'].isna()]"
   ]
  },
  {
   "cell_type": "code",
   "execution_count": 33,
   "id": "b8244039-9b5e-4111-9bb0-fc4bf6371717",
   "metadata": {},
   "outputs": [
    {
     "data": {
      "text/html": [
       "<div>\n",
       "<style scoped>\n",
       "    .dataframe tbody tr th:only-of-type {\n",
       "        vertical-align: middle;\n",
       "    }\n",
       "\n",
       "    .dataframe tbody tr th {\n",
       "        vertical-align: top;\n",
       "    }\n",
       "\n",
       "    .dataframe thead th {\n",
       "        text-align: right;\n",
       "    }\n",
       "</style>\n",
       "<table border=\"1\" class=\"dataframe\">\n",
       "  <thead>\n",
       "    <tr style=\"text-align: right;\">\n",
       "      <th></th>\n",
       "      <th>movieCd</th>\n",
       "      <th>multiMovieYn_m</th>\n",
       "      <th>repNationCd_m</th>\n",
       "      <th>multiMovieYn_n</th>\n",
       "      <th>repNationCd_n</th>\n",
       "    </tr>\n",
       "  </thead>\n",
       "  <tbody>\n",
       "  </tbody>\n",
       "</table>\n",
       "</div>"
      ],
      "text/plain": [
       "Empty DataFrame\n",
       "Columns: [movieCd, multiMovieYn_m, repNationCd_m, multiMovieYn_n, repNationCd_n]\n",
       "Index: []"
      ]
     },
     "execution_count": 33,
     "metadata": {},
     "output_type": "execute_result"
    }
   ],
   "source": [
    "m_df[m_df['multiMovieYn_n'].isna()]"
   ]
  },
  {
   "cell_type": "code",
   "execution_count": 35,
   "id": "e63a22a7-f249-4b13-b790-174e2032667d",
   "metadata": {},
   "outputs": [
    {
     "data": {
      "text/html": [
       "<div>\n",
       "<style scoped>\n",
       "    .dataframe tbody tr th:only-of-type {\n",
       "        vertical-align: middle;\n",
       "    }\n",
       "\n",
       "    .dataframe tbody tr th {\n",
       "        vertical-align: top;\n",
       "    }\n",
       "\n",
       "    .dataframe thead th {\n",
       "        text-align: right;\n",
       "    }\n",
       "</style>\n",
       "<table border=\"1\" class=\"dataframe\">\n",
       "  <thead>\n",
       "    <tr style=\"text-align: right;\">\n",
       "      <th></th>\n",
       "      <th>movieCd</th>\n",
       "      <th>multiMovieYn_m</th>\n",
       "      <th>repNationCd_m</th>\n",
       "      <th>multiMovieYn_n</th>\n",
       "      <th>repNationCd_n</th>\n",
       "    </tr>\n",
       "  </thead>\n",
       "  <tbody>\n",
       "  </tbody>\n",
       "</table>\n",
       "</div>"
      ],
      "text/plain": [
       "Empty DataFrame\n",
       "Columns: [movieCd, multiMovieYn_m, repNationCd_m, multiMovieYn_n, repNationCd_n]\n",
       "Index: []"
      ]
     },
     "execution_count": 35,
     "metadata": {},
     "output_type": "execute_result"
    }
   ],
   "source": [
    "m_df[m_df['repNationCd_n'].notna()]"
   ]
  },
  {
   "cell_type": "markdown",
   "id": "f1d138f2-ed5e-461c-b632-d295072b6644",
   "metadata": {},
   "source": [
    "### 메타(국내, 독립) 데이터 추출"
   ]
  },
  {
   "cell_type": "code",
   "execution_count": 38,
   "id": "33e4c50f-d63e-4ee7-bf02-4ab6e4e69de1",
   "metadata": {},
   "outputs": [
    {
     "data": {
      "text/html": [
       "<div>\n",
       "<style scoped>\n",
       "    .dataframe tbody tr th:only-of-type {\n",
       "        vertical-align: middle;\n",
       "    }\n",
       "\n",
       "    .dataframe tbody tr th {\n",
       "        vertical-align: top;\n",
       "    }\n",
       "\n",
       "    .dataframe thead th {\n",
       "        text-align: right;\n",
       "    }\n",
       "</style>\n",
       "<table border=\"1\" class=\"dataframe\">\n",
       "  <thead>\n",
       "    <tr style=\"text-align: right;\">\n",
       "      <th></th>\n",
       "      <th>movieCd</th>\n",
       "      <th>repNationCd</th>\n",
       "      <th>multiMovieYn</th>\n",
       "    </tr>\n",
       "  </thead>\n",
       "  <tbody>\n",
       "    <tr>\n",
       "      <th>0</th>\n",
       "      <td>20143642</td>\n",
       "      <td>F</td>\n",
       "      <td>N</td>\n",
       "    </tr>\n",
       "    <tr>\n",
       "      <th>1</th>\n",
       "      <td>20149859</td>\n",
       "      <td>F</td>\n",
       "      <td>N</td>\n",
       "    </tr>\n",
       "    <tr>\n",
       "      <th>2</th>\n",
       "      <td>20140226</td>\n",
       "      <td>F</td>\n",
       "      <td>N</td>\n",
       "    </tr>\n",
       "  </tbody>\n",
       "</table>\n",
       "</div>"
      ],
      "text/plain": [
       "    movieCd repNationCd multiMovieYn\n",
       "0  20143642           F            N\n",
       "1  20149859           F            N\n",
       "2  20140226           F            N"
      ]
     },
     "execution_count": 38,
     "metadata": {},
     "output_type": "execute_result"
    }
   ],
   "source": [
    "meta_df = m_df[['movieCd','repNationCd_m','multiMovieYn_n']]\n",
    "meta_df.columns = ['movieCd','repNationCd','multiMovieYn']\n",
    "meta_df.head(3)"
   ]
  },
  {
   "cell_type": "code",
   "execution_count": 42,
   "id": "389c0ebe-a896-4166-af68-019de94d637b",
   "metadata": {},
   "outputs": [
    {
     "data": {
      "text/plain": [
       "np.int64(0)"
      ]
     },
     "execution_count": 42,
     "metadata": {},
     "output_type": "execute_result"
    }
   ],
   "source": [
    "# 검증\n",
    "meta_df.isna().any(axis=1).sum()"
   ]
  },
  {
   "cell_type": "code",
   "execution_count": 46,
   "id": "78ca7ce7-4897-41b2-b4af-5cab9e93456f",
   "metadata": {},
   "outputs": [
    {
     "name": "stdout",
     "output_type": "stream",
     "text": [
      "중복 없음\n"
     ]
    }
   ],
   "source": [
    "if meta_df['movieCd'].duplicated().any():\n",
    "    print(\"중복 있음\")\n",
    "else:\n",
    "    print(\"중복 없음\")\n",
    "    "
   ]
  },
  {
   "cell_type": "code",
   "execution_count": 54,
   "id": "5de74525-120a-4d5e-bea7-41c2f9f2a216",
   "metadata": {},
   "outputs": [
    {
     "data": {
      "text/plain": [
       "[]"
      ]
     },
     "execution_count": 54,
     "metadata": {},
     "output_type": "execute_result"
    }
   ],
   "source": [
    "vc = meta_df['movieCd'].value_counts()\n",
    "dup = vc[vc > 1]\n",
    "dup.index.tolist()"
   ]
  },
  {
   "cell_type": "code",
   "execution_count": 57,
   "id": "779b7cce-2cdc-4520-ba5c-e762bf665ceb",
   "metadata": {},
   "outputs": [
    {
     "data": {
      "text/plain": [
       "True"
      ]
     },
     "execution_count": 57,
     "metadata": {},
     "output_type": "execute_result"
    }
   ],
   "source": [
    "len(meta_df['movieCd'].drop_duplicates()) == len(meta_df)"
   ]
  },
  {
   "cell_type": "markdown",
   "id": "37cd748e-18cd-400b-97eb-ca13da014fef",
   "metadata": {},
   "source": [
    "# 누락 있음"
   ]
  },
  {
   "cell_type": "code",
   "execution_count": 58,
   "id": "1a035a7a-9031-42bc-bb2b-e2d73f44f4d2",
   "metadata": {},
   "outputs": [
    {
     "data": {
      "text/plain": [
       "False"
      ]
     },
     "execution_count": 58,
     "metadata": {},
     "output_type": "execute_result"
    }
   ],
   "source": [
    "len(kinddf['movieCd'].drop_duplicates()) == len(meta_df)"
   ]
  }
 ],
 "metadata": {
  "kernelspec": {
   "display_name": "Python 3 (ipykernel)",
   "language": "python",
   "name": "python3"
  },
  "language_info": {
   "codemirror_mode": {
    "name": "ipython",
    "version": 3
   },
   "file_extension": ".py",
   "mimetype": "text/x-python",
   "name": "python",
   "nbconvert_exporter": "python",
   "pygments_lexer": "ipython3",
   "version": "3.11.9"
  }
 },
 "nbformat": 4,
 "nbformat_minor": 5
}
